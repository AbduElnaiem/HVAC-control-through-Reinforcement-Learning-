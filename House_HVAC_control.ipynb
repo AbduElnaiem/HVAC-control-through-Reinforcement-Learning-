{
  "metadata": {
    "kernelspec": {
      "language": "python",
      "display_name": "Python 3",
      "name": "python3"
    },
    "language_info": {
      "name": "python",
      "version": "3.10.13",
      "mimetype": "text/x-python",
      "codemirror_mode": {
        "name": "ipython",
        "version": 3
      },
      "pygments_lexer": "ipython3",
      "nbconvert_exporter": "python",
      "file_extension": ".py"
    },
    "kaggle": {
      "accelerator": "none",
      "dataSources": [],
      "dockerImageVersionId": 30664,
      "isInternetEnabled": false,
      "language": "python",
      "sourceType": "notebook",
      "isGpuEnabled": false
    },
    "colab": {
      "provenance": []
    }
  },
  "nbformat_minor": 0,
  "nbformat": 4,
  "cells": [
    {
      "cell_type": "code",
      "source": [
        "import numpy as np\n",
        "import gym\n",
        "\n",
        "class HVACEnvironment(gym.Env):\n",
        "    def __init__(self):\n",
        "        super(HVACEnvironment, self).__init__()\n",
        "        # Define action space (e.g., temperature adjustments)\n",
        "        self.action_space = gym.spaces.Discrete(3)  # 3 actions: increase, decrease, or maintain temperature\n",
        "        # Define observation space (e.g., current temperature)\n",
        "        self.observation_space = gym.spaces.Box(low=np.array([0.0]), high=np.array([10.0]), dtype=np.float32)\n",
        "        # Initialize state (e.g., current temperature)\n",
        "        self.current_temperature = 70.0\n",
        "\n",
        "    def reset(self):\n",
        "        # Reset environment to initial state\n",
        "        self.current_temperature = 70.0\n",
        "        return np.array([self.current_temperature])\n",
        "\n",
        "    def step(self, action):\n",
        "        # Take action (e.g., adjust temperature based on action)\n",
        "        if action == 0:  # Increase temperature\n",
        "            self.current_temperature += 1.0\n",
        "        elif action == 1:  # Decrease temperature\n",
        "            self.current_temperature -= 1.0\n",
        "        # else: Maintain temperature\n",
        "        # Update temperature within reasonable bounds\n",
        "        self.current_temperature = np.clip(self.current_temperature, 0.0, 100.0)\n",
        "        # Calculate reward based on temperature (e.g., comfort level)\n",
        "        reward = -(self.current_temperature - 70.0)**2  # Reward penalizes deviation from 70°F\n",
        "        # Check if episode is done (optional)\n",
        "        done = True  # You can define a termination condition\n",
        "        # Return observation, reward, done, and additional information (optional)\n",
        "        return np.array([self.current_temperature]), reward, done, {}\n",
        "\n",
        "# Q-learning agent\n",
        "class QLearningAgent:\n",
        "    def __init__(self, action_space, lr=0.1, gamma=0.9, epsilon=0.1):\n",
        "        self.action_space = action_space\n",
        "        self.lr = lr  # Learning rate\n",
        "        self.gamma = gamma  # Discount factor\n",
        "        self.epsilon = epsilon  # Exploration-exploitation trade-off parameter\n",
        "        # Initialize Q-table\n",
        "        self.q_table = np.zeros((self.action_space.n,))\n",
        "\n",
        "    def choose_action(self, state):\n",
        "        if np.random.random() < self.epsilon:\n",
        "            return np.random.choice(self.action_space.n)  # Exploration: random action\n",
        "        else:\n",
        "            return np.argmax(self.q_table)  # Exploitation: choose action with highest Q-value\n",
        "\n",
        "    def update_q_table(self, state, action, reward, next_state):\n",
        "        best_next_action = np.argmax(self.q_table)\n",
        "        td_target = reward + self.gamma * self.q_table[best_next_action]\n",
        "        td_error = td_target - self.q_table[action]\n",
        "        self.q_table[action] += self.lr * td_error\n",
        "\n",
        "# Main training loop\n",
        "env = HVACEnvironment()\n",
        "agent = QLearningAgent(env.action_space)\n",
        "\n",
        "for episode in range(10):  # 10 episodes\n",
        "    state = env.reset()\n",
        "    total_reward = 0\n",
        "    done = True\n",
        "    while not done:\n",
        "        action = agent.choose_action(state)\n",
        "        next_state, reward, done, _ = env.step(action)\n",
        "        agent.update_q_table(state, action, reward, next_state)\n",
        "        state = next_state\n",
        "        total_reward += reward\n",
        "    print(f\"Episode {episode + 1}, Total Reward: {total_reward}\")"
      ],
      "metadata": {
        "_uuid": "8f2839f25d086af736a60e9eeb907d3b93b6e0e5",
        "_cell_guid": "b1076dfc-b9ad-4769-8c92-a6c4dae69d19",
        "execution": {
          "iopub.status.busy": "2024-02-28T01:43:43.739575Z",
          "iopub.execute_input": "2024-02-28T01:43:43.740035Z",
          "iopub.status.idle": "2024-02-28T03:58:02.339193Z",
          "shell.execute_reply.started": "2024-02-28T01:43:43.739997Z",
          "shell.execute_reply": "2024-02-28T03:58:02.337591Z"
        },
        "trusted": true,
        "colab": {
          "base_uri": "https://localhost:8080/"
        },
        "id": "TGwgwu27ShTu",
        "outputId": "7825db2c-5bfe-41d8-b2d6-778959c6a35e"
      },
      "execution_count": 1,
      "outputs": [
        {
          "output_type": "stream",
          "name": "stdout",
          "text": [
            "Episode 1, Total Reward: 0\n",
            "Episode 2, Total Reward: 0\n",
            "Episode 3, Total Reward: 0\n",
            "Episode 4, Total Reward: 0\n",
            "Episode 5, Total Reward: 0\n",
            "Episode 6, Total Reward: 0\n",
            "Episode 7, Total Reward: 0\n",
            "Episode 8, Total Reward: 0\n",
            "Episode 9, Total Reward: 0\n",
            "Episode 10, Total Reward: 0\n"
          ]
        },
        {
          "output_type": "stream",
          "name": "stderr",
          "text": [
            "/usr/local/lib/python3.10/dist-packages/gym/spaces/box.py:128: UserWarning: \u001b[33mWARN: Box bound precision lowered by casting to float32\u001b[0m\n",
            "  logger.warn(f\"Box bound precision lowered by casting to {self.dtype}\")\n"
          ]
        }
      ]
    }
  ]
}